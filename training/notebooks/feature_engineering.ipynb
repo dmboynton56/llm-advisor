{
 "cells": [
  {
   "cell_type": "markdown",
   "metadata": {},
   "source": [
    "# Feature Engineering Workbench\n",
    "\n",
    "**Objective:** This notebook is a laboratory for exploring, visualizing, and testing new features for the Daily Bias prediction models. \n",
    "\n",
    "**Workflow:**\n",
    "1.  Load historical multi-timeframe data for a single symbol.\n",
    "2.  Apply the existing feature engineering logic (from `train_daily_bias_models.py`).\n",
    "3.  Visualize the relationships between features and the target bias.\n",
    "4.  Experiment with creating new, experimental features.\n",
    "5.  Once a new feature is proven to be valuable, its logic should be copied into the main `engineer_features` function in the production training script."
   ]
  },
  {
   "cell_type": "markdown",
   "metadata": {},
   "source": [
    "## 1. Setup and Data Loading"
   ]
  },
  {
   "cell_type": "code",
   "execution_count": null,
   "metadata": {},
   "outputs": [],
   "source": [
    "import os\n",
    "import sys\n",
    "import pandas as pd\n",
    "import numpy as np\n",
    "import pickle\n",
    "from datetime import datetime, timedelta\n",
    "import warnings\n",
    "import alpaca_trade_api as tradeapi\n",
    "from dotenv import load_dotenv\n",
    "import matplotlib.pyplot as plt\n",
    "import seaborn as sns\n",
    "\n",
    "# Add project root to path to allow imports from config\n",
    "sys.path.append(os.path.dirname(os.path.dirname(os.path.dirname(os.path.abspath('__file__')))))\n",
    "from config.settings import WATCHLIST\n",
    "\n",
    "warnings.filterwarnings('ignore')\n",
    "sns.set_style('whitegrid')\n",
    "\n",
    "# --- Load API Keys ---\n",
    "load_dotenv(dotenv_path='../../.env')\n",
    "api_key = os.getenv('ALPACA_API_KEY')\n",
    "secret_key = os.getenv('ALPACA_SECRET_KEY')\n",
    "\n",
    "api = tradeapi.REST(\n",
    "    key_id=api_key,\n",
    "    secret_key=secret_key,\n",
    "    base_url='https://paper-api.alpaca.markets'\n",
    ")\n",
    "\n",
    "print(\"Libraries loaded and Alpaca API client initialized.\")"
   ]
  },
  {
   "cell_type": "code",
   "execution_count": null,
   "metadata": {},
   "outputs": [],
   "source": [
    "# --- Single Symbol Data Loading ---\n",
    "SYMBOL_TO_ANALYZE = 'SPY' # Change this to analyze different symbols\n",
    "\n",
    "print(f\"Fetching data for {SYMBOL_TO_ANALYZE}...\")\n",
    "\n",
    "end_date = datetime.now().isoformat()\n",
    "start_1d = (datetime.now() - timedelta(days=5*365)).isoformat()\n",
    "\n",
    "df_daily = api.get_bars(SYMBOL_TO_ANALYZE, '1Day', start=start_1d, end=end_date).df\n",
    "\n",
    "print(f\"Downloaded {len(df_daily)} daily bars.\")\n",
    "df_daily.head()"
   ]
  },
  {
   "cell_type": "markdown",
   "metadata": {},
   "source": [
    "## 2. Feature Engineering Logic\n",
    "\n",
    "This section contains the exact same feature engineering functions from the production `train_daily_bias_models.py` script. This ensures our research environment matches our production environment."
   ]
  },
  {
   "cell_type": "code",
   "execution_count": null,
   "metadata": {},
   "outputs": [],
   "source": [
    "def _safe_divide(numerator, denominator, default=0):\n",
    "    return np.where(denominator != 0, numerator / denominator, default)\n",
    "\n",
    "def engineer_features(df):\n",
    "    df = df.copy()\n",
    "    df.columns = [x.lower() for x in df.columns]\n",
    "\n",
    "    df['prev_close'] = df['close'].shift(1)\n",
    "    df['prev_high'] = df['high'].shift(1)\n",
    "    df['prev_low'] = df['low'].shift(1)\n",
    "\n",
    "    # Basic & ICT Features\n",
    "    df['gap_pct'] = _safe_divide((df['open'] - df['prev_close']), df['prev_close']) * 100\n",
    "    df['gap_size_abs'] = abs(df['gap_pct'])\n",
    "    df['prev_day_range_pct'] = _safe_divide((df['prev_high'] - df['prev_low']), df['prev_close']) * 100\n",
    "    df['current_range_pct'] = _safe_divide((df['high'] - df['low']), df['open']) * 100\n",
    "    df['volume_ratio_5d'] = _safe_divide(df['volume'], df['volume'].rolling(5, min_periods=1).mean(), 1.0)\n",
    "    df['swept_prev_high'] = np.where(df['high'] > df['prev_high'], 1, 0)\n",
    "    df['swept_prev_low'] = np.where(df['low'] < df['prev_low'], 1, 0)\n",
    "    df['body_size'] = abs(df['close'] - df['open'])\n",
    "    df['total_range'] = df['high'] - df['low']\n",
    "    df['body_pct'] = _safe_divide(df['body_size'], df['total_range']) * 100\n",
    "    df['upper_wick_pct'] = _safe_divide(df['high'] - df[['open', 'close']].max(axis=1), df['total_range']) * 100\n",
    "    df['lower_wick_pct'] = _safe_divide(df[['open', 'close']].min(axis=1) - df['low'], df['total_range']) * 100\n",
    "    range_nonzero = np.maximum(df['high'] - df['low'], 1e-10)\n",
    "    df['close_vs_range'] = _safe_divide((df['close'] - df['low']), range_nonzero)\n",
    "    \n",
    "    df = df.replace([np.inf, -np.inf], np.nan).dropna()\n",
    "    return df\n",
    "\n",
    "def define_bias_label(df, threshold=0.5):\n",
    "    daily_move_pct = _safe_divide(df['close'] - df['open'], df['open']) * 100\n",
    "    conditions = [daily_move_pct > threshold, daily_move_pct < -threshold]\n",
    "    choices = ['bullish', 'bearish']\n",
    "    df['bias_label'] = np.select(conditions, choices, default='choppy')\n",
    "    return df\n",
    "\n",
    "# --- Run the feature engineering pipeline ---\n",
    "df_features = engineer_features(df_daily)\n",
    "df_labeled = define_bias_label(df_features)\n",
    "\n",
    "print(\"Feature engineering complete.\")\n",
    "df_labeled[['gap_pct', 'volume_ratio_5d', 'swept_prev_high', 'body_pct', 'bias_label']].head()"
   ]
  },
  {
   "cell_type": "markdown",
   "metadata": {},
   "source": [
    "## 3. Visualization and Analysis\n",
    "\n",
    "Let's visualize some of the features we created to understand their relationship with the daily bias."
   ]
  },
  {
   "cell_type": "code",
   "execution_count": null,
   "metadata": {},
   "outputs": [],
   "source": [
    "# Visualize the distribution of the target variable\n",
    "plt.figure(figsize=(8, 5))\n",
    "sns.countplot(data=df_labeled, x='bias_label', palette='viridis')\n",
    "plt.title(f'Distribution of Daily Bias Labels for {SYMBOL_TO_ANALYZE}', fontsize=16)\n",
    "plt.ylabel('Count')\n",
    "plt.xlabel('Bias Label')\n",
    "plt.show()"
   ]
  },
  {
   "cell_type": "code",
   "execution_count": null,
   "metadata": {},
   "outputs": [],
   "source": [
    "# Visualize the relationship between Gap Percentage and Bias\n",
    "plt.figure(figsize=(10, 6))\n",
    "sns.boxplot(data=df_labeled, x='bias_label', y='gap_pct', palette='coolwarm')\n",
    "plt.title('Gap Percentage vs. Daily Bias', fontsize=16)\n",
    "plt.axhline(0, color='grey', linestyle='--')\n",
    "plt.ylabel('Gap %')\n",
    "plt.xlabel('Bias Label')\n",
    "plt.show()"
   ]
  },
  {
   "cell_type": "code",
   "execution_count": null,
   "metadata": {},
   "outputs": [],
   "source": [
    "# --- Correlation Heatmap ---\n",
    "feature_names = [\n",
    "    'gap_pct', 'gap_size_abs', 'prev_day_range_pct', 'current_range_pct',\n",
    "    'volume_ratio_5d', 'swept_prev_high', 'swept_prev_low', 'body_pct',\n",
    "    'upper_wick_pct', 'lower_wick_pct', 'close_vs_range'\n",
    "]\n",
    "\n",
    "corr_matrix = df_labeled[feature_names].corr()\n",
    "\n",
    "plt.figure(figsize=(12, 10))\n",
    "sns.heatmap(corr_matrix, annot=True, cmap='viridis', fmt='.2f')\n",
    "plt.title('Feature Correlation Matrix', fontsize=16)\n",
    "plt.show()"
   ]
  },
  {
   "cell_type": "markdown",
   "metadata": {},
   "source": [
    "## 4. Experimental Zone: Creating a New Feature\n",
    "\n",
    "This is where you can test ideas for new features. Let's try creating a 'consecutive_day_direction' feature."
   ]
  },
  {
   "cell_type": "code",
   "execution_count": null,
   "metadata": {},
   "outputs": [],
   "source": [
    "def add_experimental_feature(df):\n",
    "    df_exp = df.copy()\n",
    "    \n",
    "    # Calculate the direction of the previous day's move\n",
    "    daily_move = df_exp['close'] - df_exp['open']\n",
    "    direction = np.sign(daily_move).shift(1).fillna(0)\n",
    "    \n",
    "    # Calculate consecutive days in the same direction\n",
    "    consecutive_days = direction.groupby((direction != direction.shift()).cumsum()).cumcount() + 1\n",
    "    df_exp['consecutive_day_direction'] = consecutive_days * direction\n",
    "    \n",
    "    return df_exp\n",
    "\n",
    "df_experimental = add_experimental_feature(df_labeled)\n",
    "\n",
    "# Visualize the new feature\n",
    "plt.figure(figsize=(10, 6))\n",
    "sns.boxplot(data=df_experimental, x='bias_label', y='consecutive_day_direction', palette='plasma')\n",
    "plt.title('Experimental Feature: Consecutive Day Direction vs. Bias', fontsize=16)\n",
    "plt.ylabel('Consecutive Days (Positive=Up, Negative=Down)')\n",
    "plt.xlabel('Bias Label')\n",
    "plt.show()\n",
    "\n",
    "df_experimental[['consecutive_day_direction', 'bias_label']].head(10)"
   ]
  }
 ],
 "metadata": {
  "kernelspec": {
   "display_name": "Python 3",
   "language": "python",
   "name": "python3"
  },
  "language_info": {
   "name": "python",
   "version": "3.9.7"
  }
 },
 "nbformat": 4,
 "nbformat_minor": 2
}